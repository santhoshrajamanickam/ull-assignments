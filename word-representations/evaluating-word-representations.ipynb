{
 "cells": [
  {
   "cell_type": "code",
   "execution_count": 1,
   "metadata": {},
   "outputs": [],
   "source": [
    "from data_loading import load_embeddings, load_sim_dataset\n",
    "import numpy as np\n",
    "from scipy.stats import pearsonr, spearmanr"
   ]
  },
  {
   "cell_type": "markdown",
   "metadata": {},
   "source": [
    "# Evaluating Word Representations\n",
    "\n",
    "## Word embeddings\n",
    "\n",
    "We will examine the use of word embeddings as representations for the meaning of words. In particular, we will use pretrained word embeddings as obtained in [1]: Dependency based embeddings and bag-of-words embeddings with k = 2 and 5."
   ]
  },
  {
   "cell_type": "code",
   "execution_count": 2,
   "metadata": {},
   "outputs": [],
   "source": [
    "# Load word embeddings\n",
    "bow2embeddings = load_embeddings(\"data/bow2.words\")\n",
    "\n",
    "# Load similarity datasets\n",
    "simlex_pairs, simlex_scores = load_sim_dataset(\"data/SimLex-999.txt\", score_col=3, skip=1)\n",
    "men_pairs, men_scores = load_sim_dataset(\"data/MEN_dataset_natural_form_full\", score_col=2)"
   ]
  },
  {
   "cell_type": "code",
   "execution_count": 3,
   "metadata": {},
   "outputs": [
    {
     "name": "stdout",
     "output_type": "stream",
     "text": [
      "Pearson correlation: 0.4285\n",
      "Spearman correlation: 0.4141\n",
      "Pearson correlation: 0.6777\n",
      "Spearman correlation: 0.6999\n"
     ]
    }
   ],
   "source": [
    "def score_pairs(pairs, scores, embeddings):\n",
    "    gold_scores = []\n",
    "    sim_scores = []\n",
    "    for i, pair in enumerate(pairs):\n",
    "        if pair[0] in embeddings and pair[1] in embeddings:\n",
    "            # Get score and embedding for each word in pair\n",
    "            gold_scores.append(scores[i])\n",
    "            a = embeddings[pair[0]]\n",
    "            b = embeddings[pair[1]]\n",
    "            # Calculate cosine similarity\n",
    "            sim_scores.append(np.dot(a, b)/(np.linalg.norm(a) * np.linalg.norm(b)))    \n",
    "    \n",
    "    print(\"Pearson correlation: {:.4f}\".format(pearsonr(gold_scores, sim_scores)[0]))\n",
    "    print(\"Spearman correlation: {:.4f}\".format(spearmanr(gold_scores, sim_scores).correlation))\n",
    "    \n",
    "score_pairs(simlex_pairs, simlex_scores, bow2embeddings)\n",
    "score_pairs(men_pairs, men_scores, bow2embeddings)"
   ]
  },
  {
   "cell_type": "markdown",
   "metadata": {},
   "source": [
    "### References\n",
    "[1] Levy, O., & Goldberg, Y. (2014). Dependency-based word embeddings. In Proceedings of the 52nd Annual Meeting of the Association for Computational Linguistics (Volume 2: Short Papers) (Vol. 2, pp. 302-308)."
   ]
  }
 ],
 "metadata": {
  "kernelspec": {
   "display_name": "Python 3",
   "language": "python",
   "name": "python3"
  },
  "language_info": {
   "codemirror_mode": {
    "name": "ipython",
    "version": 3
   },
   "file_extension": ".py",
   "mimetype": "text/x-python",
   "name": "python",
   "nbconvert_exporter": "python",
   "pygments_lexer": "ipython3",
   "version": "3.6.3"
  }
 },
 "nbformat": 4,
 "nbformat_minor": 2
}
